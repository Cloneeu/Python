{
 "cells": [
  {
   "cell_type": "markdown",
   "metadata": {},
   "source": [
    "# En este programa vamos a escribir ejemplos  usando el comando if"
   ]
  },
  {
   "cell_type": "code",
   "execution_count": 1,
   "metadata": {},
   "outputs": [
    {
     "name": "stdout",
     "output_type": "stream",
     "text": [
      "Esto es verdadero\n"
     ]
    }
   ],
   "source": [
    "if True:\n",
    "    print(\"Esto es verdadero\")"
   ]
  },
  {
   "cell_type": "code",
   "execution_count": 4,
   "metadata": {},
   "outputs": [],
   "source": [
    "if False:\n",
    "    print(\"Esto es falso\")"
   ]
  },
  {
   "cell_type": "code",
   "execution_count": 6,
   "metadata": {},
   "outputs": [
    {
     "name": "stdout",
     "output_type": "stream",
     "text": [
      "El valor de x es igual a 5\n"
     ]
    }
   ],
   "source": [
    "x = 5\n",
    "if(x == 5):\n",
    "    print(\"El valor de x es igual a 5\")\n",
    "else:\n",
    "    print(\"El valor de x no es igual a 5\")"
   ]
  },
  {
   "cell_type": "code",
   "execution_count": 7,
   "metadata": {},
   "outputs": [
    {
     "name": "stdout",
     "output_type": "stream",
     "text": [
      "Ingrese un valor: 10\n",
      "El valor de x no es igual a 5\n"
     ]
    }
   ],
   "source": [
    "x = int(input(\"Ingrese un valor: \"))\n",
    "if(x == 5):\n",
    "    print(\"El valor de x es igual a 5\")\n",
    "else:\n",
    "    print(\"El valor de x no es igual a 5\")"
   ]
  },
  {
   "cell_type": "code",
   "execution_count": 14,
   "metadata": {},
   "outputs": [
    {
     "name": "stdout",
     "output_type": "stream",
     "text": [
      "Ingrese un valor: 10\n",
      "El valor de x es mayor que 10\n"
     ]
    }
   ],
   "source": [
    "x = int(input(\"Ingrese un valor: \"))\n",
    "if(x < 5):\n",
    "    print(\"El valor de x es menor a 5\")\n",
    "    \n",
    "elif(x >= 5 and x < 10):\n",
    "    print(\"El valor de x es mayor o igual que 5 pero menor a 10\")\n",
    "    \n",
    "else:\n",
    "    print(\"El valor de x es mayor que 10\")"
   ]
  },
  {
   "cell_type": "code",
   "execution_count": 16,
   "metadata": {},
   "outputs": [
    {
     "name": "stdout",
     "output_type": "stream",
     "text": [
      "Ingrese un valor: 12\n",
      "El valor de 12 es mayor que 10\n"
     ]
    }
   ],
   "source": [
    "x = int(input(\"Ingrese un valor: \"))\n",
    "if(x < 5):\n",
    "    print(\"El valor de {} es menor a 5\".format(x))\n",
    "    \n",
    "elif(x >= 5 and x < 10):\n",
    "    print(\"El valor de {} es mayor o igual que 5 pero menor a 10\".format(x))\n",
    "    \n",
    "else:\n",
    "    print(\"El valor de {} es mayor que 10\".format(x))"
   ]
  },
  {
   "cell_type": "markdown",
   "metadata": {},
   "source": [
    "# Ejercicio determinar si un valor es par o impar"
   ]
  },
  {
   "cell_type": "code",
   "execution_count": 17,
   "metadata": {},
   "outputs": [],
   "source": [
    "list = [ 10, \"Alex\", 6.9]"
   ]
  },
  {
   "cell_type": "code",
   "execution_count": 18,
   "metadata": {},
   "outputs": [
    {
     "name": "stdout",
     "output_type": "stream",
     "text": [
      "[10, 'Alex', 6.9]\n"
     ]
    }
   ],
   "source": [
    "print(list)"
   ]
  },
  {
   "cell_type": "code",
   "execution_count": 22,
   "metadata": {},
   "outputs": [
    {
     "name": "stdout",
     "output_type": "stream",
     "text": [
      "Ingrese un valor3\n",
      "El numero 3 es impar\n"
     ]
    }
   ],
   "source": [
    "x = int(input(\"Ingrese un valor\"))\n",
    "residuo = x % 2\n",
    "if residuo != 0:\n",
    "    print(\"El numero {} es impar\".format(x))\n",
    "else:\n",
    "    print(\"El numero {} es par\".format(x))"
   ]
  },
  {
   "cell_type": "code",
   "execution_count": null,
   "metadata": {},
   "outputs": [],
   "source": []
  }
 ],
 "metadata": {
  "kernelspec": {
   "display_name": "Python 3",
   "language": "python",
   "name": "python3"
  },
  "language_info": {
   "codemirror_mode": {
    "name": "ipython",
    "version": 3
   },
   "file_extension": ".py",
   "mimetype": "text/x-python",
   "name": "python",
   "nbconvert_exporter": "python",
   "pygments_lexer": "ipython3",
   "version": "3.6.5"
  }
 },
 "nbformat": 4,
 "nbformat_minor": 2
}
